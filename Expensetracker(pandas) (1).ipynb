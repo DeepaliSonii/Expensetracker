{
 "cells": [
  {
   "cell_type": "code",
   "execution_count": 27,
   "id": "41f767b9-941e-4a80-ba12-c4c3b735f647",
   "metadata": {},
   "outputs": [],
   "source": [
    "#Import the libraries\n",
    "import pandas as pd\n",
    "import numpy as np \n",
    "from datetime import date\n"
   ]
  },
  {
   "cell_type": "code",
   "execution_count": 29,
   "id": "b7d7e766-d40c-4bcb-8eae-ac6a408afbf2",
   "metadata": {},
   "outputs": [],
   "source": [
    "#Create Empty lists\n",
    "GOODS_OR_SERVICES =[]\n",
    "PRICES = []\n",
    "DATES = []\n",
    "EXPENSE_TYPE =[]\n"
   ]
  },
  {
   "cell_type": "code",
   "execution_count": 31,
   "id": "3a4ab82f-2fb6-459f-8b57-627befb91076",
   "metadata": {},
   "outputs": [],
   "source": [
    "#Create a function to add the expenses to the lists and organize the data\n",
    "def add_expense(good_or_service, prices, dates, expense_type):\n",
    "    GOODS_OR_SERVICES.append(good_or_service)\n",
    "    PRICES.append(prices)\n",
    "    DATES.append(dates)\n",
    "    EXPENSE_TYPE.append(expense_type)\n",
    "    "
   ]
  },
  {
   "cell_type": "code",
   "execution_count": 33,
   "id": "8cdc3bca-ebe5-44bf-bfc2-8d11f21ddb8e",
   "metadata": {},
   "outputs": [
    {
     "name": "stdout",
     "output_type": "stream",
     "text": [
      "welcome to the simple expense tracker\n",
      "1 . Add Food Expense\n",
      "2 . Add Household Expense\n",
      "3 . Add Transportation Expense\n",
      "4 . Show and Save The Expense report\n",
      "0 . Exit\n"
     ]
    },
    {
     "name": "stdin",
     "output_type": "stream",
     "text": [
      "choose an option:\n",
      " 1\n"
     ]
    },
    {
     "name": "stdout",
     "output_type": "stream",
     "text": [
      "\n",
      "Adding Food\n"
     ]
    },
    {
     "name": "stdin",
     "output_type": "stream",
     "text": [
      "Enter the good or service for expense type FOOD:\n",
      " DINNER\n",
      "Enter the price of the good or sercive:\n",
      " 700\n"
     ]
    },
    {
     "name": "stdout",
     "output_type": "stream",
     "text": [
      "welcome to the simple expense tracker\n",
      "1 . Add Food Expense\n",
      "2 . Add Household Expense\n",
      "3 . Add Transportation Expense\n",
      "4 . Show and Save The Expense report\n",
      "0 . Exit\n"
     ]
    },
    {
     "name": "stdin",
     "output_type": "stream",
     "text": [
      "choose an option:\n",
      " 2\n"
     ]
    },
    {
     "name": "stdout",
     "output_type": "stream",
     "text": [
      "\n",
      "Adding Househole\n"
     ]
    },
    {
     "name": "stdin",
     "output_type": "stream",
     "text": [
      "Enter the good or service for expense type HOUSEHOLD:\n",
      " RENT\n",
      "Enter the price of the good or sercive:\n",
      " 4000\n"
     ]
    },
    {
     "name": "stdout",
     "output_type": "stream",
     "text": [
      "welcome to the simple expense tracker\n",
      "1 . Add Food Expense\n",
      "2 . Add Household Expense\n",
      "3 . Add Transportation Expense\n",
      "4 . Show and Save The Expense report\n",
      "0 . Exit\n"
     ]
    },
    {
     "name": "stdin",
     "output_type": "stream",
     "text": [
      "choose an option:\n",
      " 3\n"
     ]
    },
    {
     "name": "stdout",
     "output_type": "stream",
     "text": [
      "\n",
      "Adding Transportation \n"
     ]
    },
    {
     "name": "stdin",
     "output_type": "stream",
     "text": [
      "Enter the good or service for expense type TRANSPORTATION:\n",
      " BUS\n",
      "Enter the price of the good or sercive:\n",
      " 1000\n"
     ]
    },
    {
     "name": "stdout",
     "output_type": "stream",
     "text": [
      "welcome to the simple expense tracker\n",
      "1 . Add Food Expense\n",
      "2 . Add Household Expense\n",
      "3 . Add Transportation Expense\n",
      "4 . Show and Save The Expense report\n",
      "0 . Exit\n"
     ]
    },
    {
     "name": "stdin",
     "output_type": "stream",
     "text": [
      "choose an option:\n",
      " 4\n"
     ]
    },
    {
     "name": "stdout",
     "output_type": "stream",
     "text": [
      "\n",
      "  GOODS_OR_SERVICES  PRICES       DATES    EXPENSE_TYPE\n",
      "0            DINNER   700.0  2024-11-18            FOOD\n",
      "1              RENT  4000.0  2024-11-18       HOUSEHOLD\n",
      "2               BUS  1000.0  2024-11-18  TRANSPORTATION\n",
      "welcome to the simple expense tracker\n",
      "1 . Add Food Expense\n",
      "2 . Add Household Expense\n",
      "3 . Add Transportation Expense\n",
      "4 . Show and Save The Expense report\n",
      "0 . Exit\n"
     ]
    },
    {
     "name": "stdin",
     "output_type": "stream",
     "text": [
      "choose an option:\n",
      " 0\n"
     ]
    },
    {
     "name": "stdout",
     "output_type": "stream",
     "text": [
      "\n",
      "Exiting the program\n",
      "\n"
     ]
    }
   ],
   "source": [
    "#Main Program\n",
    "option = -1 #this will be users option or choice or input\n",
    "while(option != 0):\n",
    "    #create the option menu\n",
    "    print(\"welcome to the simple expense tracker\")\n",
    "    print('1 . Add Food Expense')\n",
    "    print('2 . Add Household Expense')\n",
    "    print('3 . Add Transportation Expense')\n",
    "    print('4 . Show and Save The Expense report')\n",
    "    print('0 . Exit')\n",
    "    option = int(input('choose an option:\\n'))\n",
    "\n",
    "    #print a new line\n",
    "    print()\n",
    "    #check for the user input and option\n",
    "    if option == 0:\n",
    "        print('Exiting the program')\n",
    "        break\n",
    "    elif option ==1:\n",
    "        print('Adding Food')\n",
    "        expense_type = 'FOOD'\n",
    "    elif option ==2:\n",
    "        print('Adding Househole')\n",
    "        expense_type = 'HOUSEHOLD'\n",
    "    elif option ==3:\n",
    "        print('Adding Transportation ')\n",
    "        expense_type = 'TRANSPORTATION'\n",
    "    elif option ==4:\n",
    "       #create a data frame and add the expenses\n",
    "        expense_report =  pd.DataFrame()\n",
    "        expense_report['GOODS_OR_SERVICES'] = GOODS_OR_SERVICES\n",
    "        expense_report['PRICES'] = PRICES\n",
    "        expense_report['DATES'] = DATES\n",
    "        expense_report['EXPENSE_TYPE'] = EXPENSE_TYPE\n",
    "        #save the expense report\n",
    "        expense_report.to_csv('expenses.csv')\n",
    "        #show the expense report\n",
    "        print(expense_report)\n",
    "    else:\n",
    "         print('you choose an incorrect option please choose 0, 1, 2, 3, or 4')\n",
    "   #Allow the user to enter the good or service and and the price\n",
    "    if option == 1 or option == 2 or option == 3:\n",
    "        good_or_service = input('Enter the good or service for expense type '+expense_type+':\\n')\n",
    "        price = float(input('Enter the price of the good or sercive:\\n'))\n",
    "        today = date.today()\n",
    "        add_expense(good_or_service, price, today, expense_type)\n",
    "#print new line\n",
    "print() \n",
    "\n",
    "\n",
    " \n",
    "    \n"
   ]
  },
  {
   "cell_type": "markdown",
   "id": "db600d28-e0f9-4ea3-b2d2-60fb3389298b",
   "metadata": {},
   "source": []
  }
 ],
 "metadata": {
  "kernelspec": {
   "display_name": "Python 3 (ipykernel)",
   "language": "python",
   "name": "python3"
  },
  "language_info": {
   "codemirror_mode": {
    "name": "ipython",
    "version": 3
   },
   "file_extension": ".py",
   "mimetype": "text/x-python",
   "name": "python",
   "nbconvert_exporter": "python",
   "pygments_lexer": "ipython3",
   "version": "3.12.4"
  }
 },
 "nbformat": 4,
 "nbformat_minor": 5
}
